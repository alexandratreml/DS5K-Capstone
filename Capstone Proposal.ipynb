{
 "cells": [
  {
   "cell_type": "markdown",
   "metadata": {},
   "source": [
    "Alexandra Treml \n",
    "Capstone Proposal "
   ]
  },
  {
   "cell_type": "markdown",
   "metadata": {},
   "source": [
    "Introduction: My professional goal is to work side-by-side with doctors to create algorithms that either read radiology scans more accurately than humans, improving the early detection of tumors, cancers, lesions, etc OR use anomaly detection to determine illness at earlier stages. \n"
   ]
  },
  {
   "cell_type": "markdown",
   "metadata": {},
   "source": [
    "Problem statement: Doctors, while highly trained and very skilled, have a difficult time detecting small irregularities in their patients, either during a physical exam or from a radiology scan. "
   ]
  },
  {
   "cell_type": "markdown",
   "metadata": {},
   "source": [
    "Plausible dataset #1  \n",
    "https://www.kaggle.com/kinguistics/heartbeat-sounds\n",
    "\n",
    "Hypothesis/assumptions: The timing between heart beats, as well as the auxiliary sounds signify heart irregularities.\n",
    "\n",
    "Goals and success metrics:  By classifying regular from irregular heartrates and comparing these lists to those curated by physicans, I aim to be 80% successful in identifying irregular heartates from sound input.\n",
    "\n",
    "Risks or limitations: I am unsure what software I might need to replicate/ transcribe the heartrate frequencies. I also do not have a curated list of regular heartrates so I won't be sure if my data is split that way, or another unknown way. "
   ]
  },
  {
   "cell_type": "markdown",
   "metadata": {},
   "source": [
    "Plausible dataset #2\n",
    "https://www.kaggle.com/andrewmvd/heart-failure-clinical-data\n",
    "\n",
    "This dataset would be more suitable for using a random forest algorithm -which I am very interested in diving into. \n",
    "\n",
    "Hypothesis/assumptions: The 12 variables included in this set can be used to predict mortality rates of persons with heart disease. \n",
    "\n",
    "Goals and success metrics: Create a model that is better than average at predicting mortality rates. \n",
    "\n",
    "Risks or limitations: There may be other factors that are better at predicting heart disease that are not in this dataset. Also, there is no description over time in this data set. For example, someone may have had one high risk factor for a very long time, while someone else had that symptom for only a day. This could mean that the factor itself cannot predict mortality. I would need the factor/ time. "
   ]
  },
  {
   "cell_type": "markdown",
   "metadata": {},
   "source": [
    "Other datasets I'm interested in: \n",
    "1. https://www.kaggle.com/unsdsn/world-happiness\n",
    "2. https://www.kaggle.com/puneet6060/intel-image-classification\n",
    "3. https://www.kaggle.com/borismarjanovic/price-volume-data-for-all-us-stocks-etfs"
   ]
  }
 ],
 "metadata": {
  "kernelspec": {
   "display_name": "Python 3",
   "language": "python",
   "name": "python3"
  },
  "language_info": {
   "codemirror_mode": {
    "name": "ipython",
    "version": 3
   },
   "file_extension": ".py",
   "mimetype": "text/x-python",
   "name": "python",
   "nbconvert_exporter": "python",
   "pygments_lexer": "ipython3",
   "version": "3.8.3"
  }
 },
 "nbformat": 4,
 "nbformat_minor": 4
}
